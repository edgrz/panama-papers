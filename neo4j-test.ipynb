{
 "cells": [
  {
   "cell_type": "code",
   "execution_count": 1,
   "metadata": {},
   "outputs": [],
   "source": [
    "import networkx as nx\n",
    "from neo4j import GraphDatabase"
   ]
  },
  {
   "cell_type": "code",
   "execution_count": 13,
   "metadata": {},
   "outputs": [],
   "source": [
    "driver = GraphDatabase.driver('bolt://localhost:7687', auth=(\"neo4j\", \"test\"))"
   ]
  },
  {
   "cell_type": "code",
   "execution_count": 15,
   "metadata": {},
   "outputs": [],
   "source": [
    "query=\"\"\"\n",
    "MATCH (n:Intermediary) RETURN n LIMIT 25;\n",
    "\"\"\"\n",
    "results = driver.session(database=\"panama\").run(query)"
   ]
  },
  {
   "cell_type": "code",
   "execution_count": 16,
   "metadata": {},
   "outputs": [
    {
     "data": {
      "text/plain": [
       "<neo4j.work.result.Result at 0x262c01fec08>"
      ]
     },
     "execution_count": 16,
     "metadata": {},
     "output_type": "execute_result"
    }
   ],
   "source": [
    "results"
   ]
  },
  {
   "cell_type": "code",
   "execution_count": 17,
   "metadata": {},
   "outputs": [],
   "source": [
    "G = nx.MultiDiGraph()\n",
    "\n",
    "nodes = list(results.graph()._nodes.values())\n",
    "for node in nodes:\n",
    "    G.add_node(node.id, labels=node._labels, properties=node._properties)\n",
    "\n",
    "rels = list(results.graph()._relationships.values())\n",
    "for rel in rels:\n",
    "    G.add_edge(rel.start_node.id, rel.end_node.id, key=rel.id, type=rel.type, properties=rel._properties)"
   ]
  },
  {
   "cell_type": "code",
   "execution_count": 18,
   "metadata": {},
   "outputs": [
    {
     "data": {
      "text/plain": [
       "[<Node id=213230 labels=frozenset({'Intermediary'}) properties={'sourceID': 'Panama Papers', 'note': '', 'valid_until': 'The Panama Papers  data is current through 2015', 'name': 'STEVE G. HOFFMAN', 'country_codes': 'USA', 'countries': 'United States', 'node_id': '11001995', 'status': 'ACTIVE'}>,\n",
       " <Node id=213231 labels=frozenset({'Intermediary'}) properties={'sourceID': 'Panama Papers', 'note': '', 'valid_until': 'The Panama Papers  data is current through 2015', 'name': 'LUIS MARINO ALVAREZ', 'country_codes': 'DOM', 'countries': 'Dominican Republic', 'node_id': '11001996', 'status': 'SUSPENDED'}>,\n",
       " <Node id=213232 labels=frozenset({'Intermediary'}) properties={'sourceID': 'Panama Papers', 'note': '', 'valid_until': 'The Panama Papers  data is current through 2015', 'name': 'MARIO POLI', 'country_codes': 'COL', 'countries': 'Colombia', 'node_id': '11001997', 'status': 'SUSPENDED'}>,\n",
       " <Node id=213233 labels=frozenset({'Intermediary'}) properties={'sourceID': 'Panama Papers', 'note': '', 'valid_until': 'The Panama Papers  data is current through 2015', 'name': 'JOHN GORMAN', 'country_codes': 'USA', 'countries': 'United States', 'node_id': '11001998', 'status': 'SUSPENDED'}>,\n",
       " <Node id=213234 labels=frozenset({'Intermediary'}) properties={'sourceID': 'Panama Papers', 'note': '', 'valid_until': 'The Panama Papers  data is current through 2015', 'name': 'CHASE MANHATTAN BANK NA (MONACO), THE', 'country_codes': 'MCO', 'countries': 'Monaco', 'node_id': '11001999', 'status': 'SUSPENDED'}>,\n",
       " <Node id=213235 labels=frozenset({'Intermediary'}) properties={'sourceID': 'Panama Papers', 'note': '', 'valid_until': 'The Panama Papers  data is current through 2015', 'name': 'START CONSULT MANAGEMENT LIMITED (BVI)', 'country_codes': 'ARE', 'countries': 'United Arab Emirates', 'node_id': '11002000', 'status': 'SUSPENDED'}>,\n",
       " <Node id=213236 labels=frozenset({'Intermediary'}) properties={'sourceID': 'Panama Papers', 'note': '', 'valid_until': 'The Panama Papers  data is current through 2015', 'name': 'KESTAL INDUSTRIES LIMITED', 'country_codes': 'HKG', 'countries': 'Hong Kong', 'node_id': '11002001', 'status': 'SUSPENDED'}>,\n",
       " <Node id=213237 labels=frozenset({'Intermediary'}) properties={'sourceID': 'Panama Papers', 'note': '', 'valid_until': 'The Panama Papers  data is current through 2015', 'name': 'ERIC HO & CO.', 'country_codes': 'HKG', 'countries': 'Hong Kong', 'node_id': '11002002', 'status': 'SUSPENDED'}>,\n",
       " <Node id=213238 labels=frozenset({'Intermediary'}) properties={'sourceID': 'Panama Papers', 'note': '', 'valid_until': 'The Panama Papers  data is current through 2015', 'name': 'GABRIEL FONSECA WARD', 'country_codes': 'PAN', 'countries': 'Panama', 'node_id': '11002003', 'status': 'ACTIVE'}>,\n",
       " <Node id=213239 labels=frozenset({'Intermediary'}) properties={'sourceID': 'Panama Papers', 'note': '', 'valid_until': 'The Panama Papers  data is current through 2015', 'name': 'TANG & PARTNERS', 'country_codes': 'SGP', 'countries': 'Singapore', 'node_id': '11002004', 'status': 'SUSPENDED'}>,\n",
       " <Node id=213240 labels=frozenset({'Intermediary'}) properties={'sourceID': 'Panama Papers', 'note': '', 'valid_until': 'The Panama Papers  data is current through 2015', 'name': 'CLIFTON LEES', 'country_codes': 'CRI', 'countries': 'Costa Rica', 'node_id': '11002028', 'status': 'SUSPENDED'}>,\n",
       " <Node id=213241 labels=frozenset({'Intermediary'}) properties={'sourceID': 'Panama Papers', 'note': '', 'valid_until': 'The Panama Papers  data is current through 2015', 'name': 'HOLENSTEIN RECHTSANWÄLTE', 'country_codes': 'CHE', 'countries': 'Switzerland', 'node_id': '11002031', 'status': 'ACTIVE'}>,\n",
       " <Node id=213242 labels=frozenset({'Intermediary'}) properties={'sourceID': 'Panama Papers', 'note': '', 'valid_until': 'The Panama Papers  data is current through 2015', 'name': 'AYSEL CONSTRUCTION CONTRACTING AND TRADE CO.', 'country_codes': 'TUR', 'countries': 'Turkey', 'node_id': '11002032', 'status': 'SUSPENDED'}>,\n",
       " <Node id=213243 labels=frozenset({'Intermediary'}) properties={'sourceID': 'Panama Papers', 'note': '', 'valid_until': 'The Panama Papers  data is current through 2015', 'name': 'MOHAMED ALI ALIREZA', 'country_codes': 'SAU', 'countries': 'Saudi Arabia', 'node_id': '11002033', 'status': 'SUSPENDED'}>,\n",
       " <Node id=213244 labels=frozenset({'Intermediary'}) properties={'sourceID': 'Panama Papers', 'note': '', 'valid_until': 'The Panama Papers  data is current through 2015', 'name': 'STANDARD CHARTERED TRUST (GUERNSEY)', 'country_codes': 'GGY;GBR', 'countries': 'Guernsey;United Kingdom', 'node_id': '11002005', 'status': 'SUSPENDED'}>,\n",
       " <Node id=213245 labels=frozenset({'Intermediary'}) properties={'sourceID': 'Panama Papers', 'note': '', 'valid_until': 'The Panama Papers  data is current through 2015', 'name': 'QUEST CAPITAL ADVISERS S.A.', 'country_codes': 'URY', 'countries': 'Uruguay', 'node_id': '11002006', 'status': 'ACTIVE'}>,\n",
       " <Node id=213246 labels=frozenset({'Intermediary'}) properties={'sourceID': 'Panama Papers', 'note': '', 'valid_until': 'The Panama Papers  data is current through 2015', 'name': 'GIL WEIL & CO.', 'country_codes': 'ISR', 'countries': 'Israel', 'node_id': '11002007', 'status': 'ACTIVE'}>,\n",
       " <Node id=213247 labels=frozenset({'Intermediary'}) properties={'sourceID': 'Panama Papers', 'note': '', 'valid_until': 'The Panama Papers  data is current through 2015', 'name': 'ROSENFELD, RINALDO', 'country_codes': 'CAN', 'countries': 'Canada', 'node_id': '11002008', 'status': 'SUSPENDED'}>,\n",
       " <Node id=213248 labels=frozenset({'Intermediary'}) properties={'sourceID': 'Panama Papers', 'note': '', 'valid_until': 'The Panama Papers  data is current through 2015', 'name': 'CREDIT SUISSE FIRST BOSTON LLC', 'country_codes': 'USA', 'countries': 'United States', 'node_id': '11002009', 'status': 'ACTIVE'}>,\n",
       " <Node id=213249 labels=frozenset({'Intermediary'}) properties={'sourceID': 'Panama Papers', 'note': '', 'valid_until': 'The Panama Papers  data is current through 2015', 'name': 'SHEIKH HAMAD BIN JASSEM BIN JABR AL-THANI', 'country_codes': 'QAT', 'countries': 'Qatar', 'node_id': '11002010', 'status': 'SUSPENDED'}>,\n",
       " <Node id=213250 labels=frozenset({'Intermediary'}) properties={'sourceID': 'Panama Papers', 'note': '', 'valid_until': 'The Panama Papers  data is current through 2015', 'name': 'SHANDONG DEHENG LAW FIRM  (HEAD OFFICE)', 'country_codes': 'HKG;CHN', 'countries': 'Hong Kong;China', 'node_id': '11002011', 'status': 'SUSPENDED'}>,\n",
       " <Node id=213251 labels=frozenset({'Intermediary'}) properties={'sourceID': 'Panama Papers', 'note': '', 'valid_until': 'The Panama Papers  data is current through 2015', 'name': 'MOHAMED YOUSUF ALIREZA (MR.)', 'country_codes': 'SAU', 'countries': 'Saudi Arabia', 'node_id': '11002012', 'status': 'SUSPENDED'}>,\n",
       " <Node id=213252 labels=frozenset({'Intermediary'}) properties={'sourceID': 'Panama Papers', 'note': '', 'valid_until': 'The Panama Papers  data is current through 2015', 'name': 'ZHEJIANG ZEDA LAW FIRM', 'country_codes': 'CHN', 'countries': 'China', 'node_id': '11002013', 'status': 'SUSPENDED'}>,\n",
       " <Node id=213253 labels=frozenset({'Intermediary'}) properties={'sourceID': 'Panama Papers', 'note': '', 'valid_until': 'The Panama Papers  data is current through 2015', 'name': 'JIANGSU WUXI JUHEXIN LAW FIRM', 'country_codes': 'CHN', 'countries': 'China', 'node_id': '11002014', 'status': 'ACTIVE'}>,\n",
       " <Node id=213254 labels=frozenset({'Intermediary'}) properties={'sourceID': 'Panama Papers', 'note': '', 'valid_until': 'The Panama Papers  data is current through 2015', 'name': 'GUANGZHOU SYMBIOTIC INFORMATION & INVESTMENT CONSULTANT CO., LTD', 'country_codes': 'CHN', 'countries': 'China', 'node_id': '11002015', 'status': 'ACTIVE'}>]"
      ]
     },
     "execution_count": 18,
     "metadata": {},
     "output_type": "execute_result"
    }
   ],
   "source": [
    "nodes"
   ]
  },
  {
   "cell_type": "code",
   "execution_count": null,
   "metadata": {},
   "outputs": [],
   "source": []
  }
 ],
 "metadata": {
  "kernelspec": {
   "display_name": "Python 3",
   "language": "python",
   "name": "python3"
  },
  "language_info": {
   "codemirror_mode": {
    "name": "ipython",
    "version": 3
   },
   "file_extension": ".py",
   "mimetype": "text/x-python",
   "name": "python",
   "nbconvert_exporter": "python",
   "pygments_lexer": "ipython3",
   "version": "3.7.9"
  }
 },
 "nbformat": 4,
 "nbformat_minor": 2
}
