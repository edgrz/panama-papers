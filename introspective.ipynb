{
 "cells": [
  {
   "cell_type": "code",
   "execution_count": 1,
   "metadata": {},
   "outputs": [],
   "source": [
    "import networkx as nx\n",
    "import numpy as np\n",
    "from neo4j import GraphDatabase"
   ]
  },
  {
   "cell_type": "code",
   "execution_count": 2,
   "metadata": {},
   "outputs": [],
   "source": [
    "driver = GraphDatabase.driver('bolt://localhost:7687', auth=(\"neo4j\", \"test\"))"
   ]
  },
  {
   "cell_type": "code",
   "execution_count": 3,
   "metadata": {},
   "outputs": [],
   "source": [
    "query_all=\"MATCH (n)-[r]->(c) RETURN *\"\n",
    "query_intermediaries=\"MATCH (n: Entity)-[r]->(c) RETURN n,r\"\n",
    "query_singleton=\"MATCH (n) WHERE NOT (n)--() RETURN n;\"\n",
    "query_intermediaries=\"MATCH p=()-[r:INTERMEDIARY_OF]->() RETURN p\"\n",
    "query_officers=\"MATCH p=()-[r:OFFICER_OF|DIRECTOR_OF|BENEFICIARY_OF|SHAREHOLDER_OF]->() RETURN p\"\n",
    "query=\"MATCH (n)-[r]->(c) RETURN * LIMIT 25\""
   ]
  },
  {
   "cell_type": "code",
   "execution_count": 4,
   "metadata": {},
   "outputs": [
    {
     "data": {
      "text/plain": [
       "<neo4j.work.result.Result at 0x1cebad9b4c8>"
      ]
     },
     "execution_count": 4,
     "metadata": {},
     "output_type": "execute_result"
    }
   ],
   "source": [
    "results = driver.session(database=\"panama\").run(query)\n",
    "results"
   ]
  },
  {
   "cell_type": "code",
   "execution_count": 5,
   "metadata": {},
   "outputs": [],
   "source": [
    "G = nx.Graph()\n",
    "\n",
    "nodes = list(results.graph()._nodes.values())\n",
    "for node in nodes:\n",
    "    G.add_node(node.id, labels=node._labels, properties=node._properties)\n",
    "\n",
    "rels = list(results.graph()._relationships.values())\n",
    "for rel in rels:\n",
    "    G.add_edge(rel.start_node.id, rel.end_node.id, key=rel.id, type=rel.type, properties=rel._properties)"
   ]
  },
  {
   "cell_type": "code",
   "execution_count": 6,
   "metadata": {},
   "outputs": [
    {
     "data": {
      "text/plain": [
       "[<Node id=320669 labels=frozenset({'Address'}) properties={'sourceID': 'Panama Papers', 'note': '', 'address': 'LOMBARD ODIER DARIER HENTSCH & CIE ATTN MR. LAURENT PICTET RUE DE LA CORRATERIE 11 1204 GENEVE SWITZERLAND', 'valid_until': 'The Panama Papers  data is current through 2015', 'name': '', 'country_codes': 'CHE', 'countries': 'Switzerland', 'node_id': '14100320'}>,\n",
       " <Node id=82 labels=frozenset({'Entity'}) properties={'sourceID': 'Panama Papers', 'company_type': '', 'note': '', 'closed_date': '', 'jurisdiction': 'SAM', 'struck_off_date': '', 'service_provider': 'Mossack Fonseca', 'countries': 'Switzerland', 'jurisdiction_description': 'Samoa', 'valid_until': 'The Panama Papers data is current through 2015', 'ibcRUC': 'R28373', 'name': 'JAIPUR HOLDING LIMITED', 'country_codes': 'CHE', 'inactivation_date': '', 'incorporation_date': '12-OCT-2006', 'node_id': '10001087', 'status': 'Active'}>,\n",
       " <Node id=320512 labels=frozenset({'Address'}) properties={'sourceID': 'Panama Papers', 'note': '', 'address': 'KANE PROPERTIES HOLDINS INC MOSSACK FONSECA & CO. (SAMOA) LIMITED; LEVEL 2; NIA MALL; VAEA STREET; APIA; SAMOA.', 'valid_until': 'The Panama Papers  data is current through 2015', 'name': '', 'country_codes': 'WSM', 'countries': 'Samoa', 'node_id': '14099344'}>,\n",
       " <Node id=218 labels=frozenset({'Entity'}) properties={'sourceID': 'Panama Papers', 'company_type': '', 'note': '', 'closed_date': '', 'jurisdiction': 'SAM', 'struck_off_date': '15-FEB-2009', 'service_provider': 'Mossack Fonseca', 'countries': 'Samoa', 'jurisdiction_description': 'Samoa', 'valid_until': 'The Panama Papers data is current through 2015', 'ibcRUC': '32234', 'name': 'KANE PROPERTIES HOLDINS INC', 'country_codes': 'WSM', 'inactivation_date': '01-NOV-2011', 'incorporation_date': '16-APR-2007', 'node_id': '10001221', 'status': 'Defaulted'}>,\n",
       " <Node id=319558 labels=frozenset({'Address'}) properties={'sourceID': 'Panama Papers', 'note': '', 'address': 'HAMPTON INVESTMENTS LIMITED MOSSACK FONSECA & CO. (SAMOA) LIMITED; LEVEL 2; NIA MALL; VAEA STREET; APIA; SAMOA.', 'valid_until': 'The Panama Papers  data is current through 2015', 'name': '', 'country_codes': 'WSM', 'countries': 'Samoa', 'node_id': '14097685'}>,\n",
       " <Node id=315 labels=frozenset({'Entity'}) properties={'sourceID': 'Panama Papers', 'company_type': '', 'note': '', 'closed_date': '', 'jurisdiction': 'SAM', 'struck_off_date': '15-FEB-2009', 'service_provider': 'Mossack Fonseca', 'countries': 'Samoa', 'jurisdiction_description': 'Samoa', 'valid_until': 'The Panama Papers data is current through 2015', 'ibcRUC': '33174', 'name': 'HAMPTON INVESTMENTS LIMITED', 'country_codes': 'WSM', 'inactivation_date': '26-MAR-2012', 'incorporation_date': '19-JUN-2007', 'node_id': '10001315', 'status': 'Defaulted'}>,\n",
       " <Node id=318460 labels=frozenset({'Address'}) properties={'sourceID': 'Panama Papers', 'note': '', 'address': 'CONSULTORES LEGALES; S. A. EDIFICIO PLAZA CORPORATIVA TORRE 1 OF.801 AVENIDA LA REFORMA 6-64 ZONA 9  CIUDAD DE GUATEMALA; GUATEMALA 01009  ATENCION:  LIC. JUAN M. MOLINA', 'valid_until': 'The Panama Papers  data is current through 2015', 'name': '', 'country_codes': 'GTM', 'countries': 'Guatemala', 'node_id': '14094124'}>,\n",
       " <Node id=319 labels=frozenset({'Entity'}) properties={'sourceID': 'Panama Papers', 'company_type': '', 'note': '', 'closed_date': '', 'jurisdiction': 'SAM', 'struck_off_date': '15-FEB-2009', 'service_provider': 'Mossack Fonseca', 'countries': 'Guatemala', 'jurisdiction_description': 'Samoa', 'valid_until': 'The Panama Papers data is current through 2015', 'ibcRUC': 'R29453', 'name': 'AMERICAN PROPERTIES, S.A.', 'country_codes': 'GTM', 'inactivation_date': '16-FEB-2009', 'incorporation_date': '18-DEC-2006', 'node_id': '10001319', 'status': 'Defaulted'}>,\n",
       " <Node id=319431 labels=frozenset({'Address'}) properties={'sourceID': 'Panama Papers', 'note': '', 'address': 'GAINWELL CAPITAL HOLDINGS LIMITED ROOM 1803; MCDONALD’S BUILDING; 46-54 YEE WO STREET CAUSEWAY BAY HONG KONG', 'valid_until': 'The Panama Papers  data is current through 2015', 'name': '', 'country_codes': 'HKG', 'countries': 'Hong Kong', 'node_id': '14096911'}>,\n",
       " <Node id=328 labels=frozenset({'Entity'}) properties={'sourceID': 'Panama Papers', 'company_type': '', 'note': '', 'closed_date': '', 'jurisdiction': 'SAM', 'struck_off_date': '', 'service_provider': 'Mossack Fonseca', 'countries': 'Hong Kong', 'jurisdiction_description': 'Samoa', 'valid_until': 'The Panama Papers data is current through 2015', 'ibcRUC': '67255', 'name': 'THE TOP INVESTMENTS LTD.', 'country_codes': 'HKG', 'inactivation_date': '', 'incorporation_date': '05-JAN-2015', 'node_id': '10001352', 'status': 'Active'}>,\n",
       " <Node id=317539 labels=frozenset({'Address'}) properties={'sourceID': 'Panama Papers', 'note': '', 'address': 'ANDBANC GRUP AGRICOL REIG C/  MANUEL CERQUEDA I ESCALER, 6 AD 700 ESCALDES-ENGORDANY ANDORRA', 'valid_until': 'The Panama Papers  data is current through 2015', 'name': '', 'country_codes': 'AND', 'countries': 'Andorra', 'node_id': '14091429'}>,\n",
       " <Node id=481 labels=frozenset({'Entity'}) properties={'sourceID': 'Panama Papers', 'company_type': '', 'note': '', 'closed_date': '', 'jurisdiction': 'SAM', 'struck_off_date': '', 'service_provider': 'Mossack Fonseca', 'countries': 'Andorra', 'jurisdiction_description': 'Samoa', 'valid_until': 'The Panama Papers data is current through 2015', 'ibcRUC': '26288', 'name': 'WESTERYNNEN INVESTMENTS LTD.', 'country_codes': 'AND', 'inactivation_date': '', 'incorporation_date': '31-MAY-2006', 'node_id': '10001483', 'status': 'Active'}>,\n",
       " <Node id=318755 labels=frozenset({'Address'}) properties={'sourceID': 'Panama Papers', 'note': '', 'address': 'EUROFIN SERVICES S.A. P.O.BOX  6003 LAUSANNE 1002, VAUD SWITZERLAND', 'valid_until': 'The Panama Papers  data is current through 2015', 'name': '', 'country_codes': 'CHE', 'countries': 'Switzerland', 'node_id': '14095990'}>,\n",
       " <Node id=580 labels=frozenset({'Entity'}) properties={'sourceID': 'Panama Papers', 'company_type': '', 'note': '', 'closed_date': '', 'jurisdiction': 'SAM', 'struck_off_date': '15-FEB-2013', 'service_provider': 'Mossack Fonseca', 'countries': 'Switzerland', 'jurisdiction_description': 'Samoa', 'valid_until': 'The Panama Papers data is current through 2015', 'ibcRUC': 'R26091', 'name': 'CARPENTER NELSON & CO., LTD.', 'country_codes': 'CHE', 'inactivation_date': '18-FEB-2013', 'incorporation_date': '23-MAY-2006', 'node_id': '10000035', 'status': 'Defaulted'}>,\n",
       " <Node id=317472 labels=frozenset({'Address'}) properties={'sourceID': 'Panama Papers', 'note': '', 'address': 'AKMJ CONSULTING SERVICES LIMITED 20/F.; BANGKOK BANK BUILDING; 490 NATHAN ROAD; KOWLOON; HONG KONG', 'valid_until': 'The Panama Papers  data is current through 2015', 'name': '', 'country_codes': 'HKG', 'countries': 'Hong Kong', 'node_id': '14091035'}>,\n",
       " <Node id=590 labels=frozenset({'Entity'}) properties={'sourceID': 'Panama Papers', 'company_type': '', 'note': '', 'closed_date': '', 'jurisdiction': 'SAM', 'struck_off_date': '', 'service_provider': 'Mossack Fonseca', 'countries': 'Hong Kong', 'jurisdiction_description': 'Samoa', 'valid_until': 'The Panama Papers data is current through 2015', 'ibcRUC': 'R24693', 'name': 'GOLDEN NET INTERNATIONAL LIMITED', 'country_codes': 'HKG', 'inactivation_date': '', 'incorporation_date': '13-FEB-2006', 'node_id': '10000044', 'status': 'Active'}>,\n",
       " <Node id=601 labels=frozenset({'Entity'}) properties={'sourceID': 'Panama Papers', 'company_type': '', 'note': '', 'closed_date': '', 'jurisdiction': 'SAM', 'struck_off_date': '15-FEB-2014', 'service_provider': 'Mossack Fonseca', 'countries': 'Switzerland', 'jurisdiction_description': 'Samoa', 'valid_until': 'The Panama Papers data is current through 2015', 'ibcRUC': 'R28810', 'name': 'SEG MECHANICAL LTD.', 'country_codes': 'CHE', 'inactivation_date': '27-FEB-2014', 'incorporation_date': '08-NOV-2006', 'node_id': '10000055', 'status': 'Defaulted'}>,\n",
       " <Node id=609 labels=frozenset({'Entity'}) properties={'sourceID': 'Panama Papers', 'company_type': '', 'note': '', 'closed_date': '', 'jurisdiction': 'SAM', 'struck_off_date': '15-FEB-2015', 'service_provider': 'Mossack Fonseca', 'countries': 'Andorra', 'jurisdiction_description': 'Samoa', 'valid_until': 'The Panama Papers data is current through 2015', 'ibcRUC': 'R26362', 'name': 'HF CAPITAL RISK INC.', 'country_codes': 'AND', 'inactivation_date': '19-FEB-2015', 'incorporation_date': '05-JUN-2006', 'node_id': '10000064', 'status': 'Defaulted'}>,\n",
       " <Node id=319636 labels=frozenset({'Address'}) properties={'sourceID': 'Panama Papers', 'note': '', 'address': 'ICS INTERNATIONAL CONSULTANCY SERVICES CARREFOUR DE RIVE 2 CASE POSTALE 6455 1211 GENEVE 6 SWITZERLAND', 'valid_until': 'The Panama Papers  data is current through 2015', 'name': '', 'country_codes': 'CHE', 'countries': 'Switzerland', 'node_id': '14098253'}>,\n",
       " <Node id=634 labels=frozenset({'Entity'}) properties={'sourceID': 'Panama Papers', 'company_type': '', 'note': '', 'closed_date': '', 'jurisdiction': 'SAM', 'struck_off_date': '15-FEB-2014', 'service_provider': 'Mossack Fonseca', 'countries': 'Switzerland', 'jurisdiction_description': 'Samoa', 'valid_until': 'The Panama Papers data is current through 2015', 'ibcRUC': 'R30994', 'name': 'SYREN LIMITED', 'country_codes': 'CHE', 'inactivation_date': '27-FEB-2014', 'incorporation_date': '08-FEB-2007', 'node_id': '10000089', 'status': 'Defaulted'}>,\n",
       " <Node id=636 labels=frozenset({'Entity'}) properties={'sourceID': 'Panama Papers', 'company_type': '', 'note': '', 'closed_date': '', 'jurisdiction': 'SAM', 'struck_off_date': '', 'service_provider': 'Mossack Fonseca', 'countries': 'Andorra', 'jurisdiction_description': 'Samoa', 'valid_until': 'The Panama Papers data is current through 2015', 'ibcRUC': 'R26361', 'name': 'IEP S.A.', 'country_codes': 'AND', 'inactivation_date': '', 'incorporation_date': '05-JUN-2006', 'node_id': '10000091', 'status': 'Active'}>,\n",
       " <Node id=318313 labels=frozenset({'Address'}) properties={'sourceID': 'Panama Papers', 'note': '', 'address': 'J.S.S.  JEROME S. SCHACHTER P.O.B 43135 JERUSALEM 91430 ISRAEL', 'valid_until': 'The Panama Papers  data is current through 2015', 'name': '', 'country_codes': 'ISR', 'countries': 'Israel', 'node_id': '14099188'}>,\n",
       " <Node id=642 labels=frozenset({'Entity'}) properties={'sourceID': 'Panama Papers', 'company_type': '', 'note': '', 'closed_date': '', 'jurisdiction': 'SAM', 'struck_off_date': '15-FEB-2014', 'service_provider': 'Mossack Fonseca', 'countries': 'Israel', 'jurisdiction_description': 'Samoa', 'valid_until': 'The Panama Papers data is current through 2015', 'ibcRUC': 'R28730', 'name': 'PROPERTY DEVELOPMENT FINANCE INC.', 'country_codes': 'ISR', 'inactivation_date': '27-FEB-2014', 'incorporation_date': '02-NOV-2006', 'node_id': '10000098', 'status': 'Defaulted'}>,\n",
       " <Node id=650 labels=frozenset({'Entity'}) properties={'sourceID': 'Panama Papers', 'company_type': '', 'note': '', 'closed_date': '', 'jurisdiction': 'SAM', 'struck_off_date': '15-FEB-2015', 'service_provider': 'Mossack Fonseca', 'countries': 'Switzerland', 'jurisdiction_description': 'Samoa', 'valid_until': 'The Panama Papers data is current through 2015', 'ibcRUC': 'R30362', 'name': 'KENDON REAL ESTATE LIMITED', 'country_codes': 'CHE', 'inactivation_date': '19-FEB-2015', 'incorporation_date': '11-JAN-2007', 'node_id': '10000105', 'status': 'Defaulted'}>,\n",
       " <Node id=654 labels=frozenset({'Entity'}) properties={'sourceID': 'Panama Papers', 'company_type': '', 'note': '', 'closed_date': '', 'jurisdiction': 'SAM', 'struck_off_date': '15-FEB-2013', 'service_provider': 'Mossack Fonseca', 'countries': 'Andorra', 'jurisdiction_description': 'Samoa', 'valid_until': 'The Panama Papers data is current through 2015', 'ibcRUC': 'R26368', 'name': 'INTERNATIONAL RACE PUBLICITY LTD.', 'country_codes': 'AND', 'inactivation_date': '18-FEB-2013', 'incorporation_date': '05-JUN-2006', 'node_id': '10000109', 'status': 'Defaulted'}>,\n",
       " <Node id=318640 labels=frozenset({'Address'}) properties={'sourceID': 'Panama Papers', 'note': '', 'address': 'DUNSTONE INCORPORATED MOSSACK FONSECA & CO. (SAMOA) LIMITED; LEVEL 2; NIA MALL; VAEA STREET; APIA; SAMOA.', 'valid_until': 'The Panama Papers  data is current through 2015', 'name': '', 'country_codes': 'WSM', 'countries': 'Samoa', 'node_id': '14095271'}>,\n",
       " <Node id=844 labels=frozenset({'Entity'}) properties={'sourceID': 'Panama Papers', 'company_type': '', 'note': '', 'closed_date': '', 'jurisdiction': 'SAM', 'struck_off_date': '15-FEB-2008', 'service_provider': 'Mossack Fonseca', 'countries': 'Samoa', 'jurisdiction_description': 'Samoa', 'valid_until': 'The Panama Papers data is current through 2015', 'ibcRUC': '27014', 'name': 'DUNSTONE INCORPORATED', 'country_codes': 'WSM', 'inactivation_date': '24-NOV-2008', 'incorporation_date': '14-JUL-2006', 'node_id': '10000297', 'status': 'Inactivated'}>,\n",
       " <Node id=318309 labels=frozenset({'Address'}) properties={'sourceID': 'Panama Papers', 'note': '', 'address': 'JOSIE BEN RUBI TORRE DE LAS AMERICAS PUNTA PACIFICA; TORRE B; PISO 4; OFICINA 2  PANAMA', 'valid_until': 'The Panama Papers  data is current through 2015', 'name': '', 'country_codes': 'PAN', 'countries': 'Panama', 'node_id': '14099155'}>,\n",
       " <Node id=1009 labels=frozenset({'Entity'}) properties={'sourceID': 'Panama Papers', 'company_type': '', 'note': '', 'closed_date': '', 'jurisdiction': 'SAM', 'struck_off_date': '15-FEB-2013', 'service_provider': 'Mossack Fonseca', 'countries': 'Panama', 'jurisdiction_description': 'Samoa', 'valid_until': 'The Panama Papers data is current through 2015', 'ibcRUC': '48033', 'name': 'LORIMAR INTERNATIONAL S.A.', 'country_codes': 'PAN', 'inactivation_date': '04-OCT-2011', 'incorporation_date': '05-JAN-2011', 'node_id': '10000464', 'status': 'Changed agent'}>,\n",
       " <Node id=1056 labels=frozenset({'Entity'}) properties={'sourceID': 'Panama Papers', 'company_type': '', 'note': '', 'closed_date': '', 'jurisdiction': 'SAM', 'struck_off_date': '', 'service_provider': 'Mossack Fonseca', 'countries': 'Guatemala', 'jurisdiction_description': 'Samoa', 'valid_until': 'The Panama Papers data is current through 2015', 'ibcRUC': 'R29220', 'name': 'ECOSERVICE CORP.', 'country_codes': 'GTM', 'inactivation_date': '', 'incorporation_date': '06-DEC-2006', 'node_id': '10000507', 'status': 'Active'}>,\n",
       " <Node id=1156 labels=frozenset({'Entity'}) properties={'sourceID': 'Panama Papers', 'company_type': '', 'note': '', 'closed_date': '', 'jurisdiction': 'SAM', 'struck_off_date': '15-FEB-2014', 'service_provider': 'Mossack Fonseca', 'countries': 'Switzerland', 'jurisdiction_description': 'Samoa', 'valid_until': 'The Panama Papers data is current through 2015', 'ibcRUC': 'R29171', 'name': '3 STARS LIMITED', 'country_codes': 'CHE', 'inactivation_date': '27-FEB-2014', 'incorporation_date': '05-DEC-2006', 'node_id': '10002066', 'status': 'Defaulted'}>,\n",
       " <Node id=320687 labels=frozenset({'Address'}) properties={'sourceID': 'Panama Papers', 'note': '', 'address': 'LT BUSINESS CONSULTANTS LIMITED ROOM 1101; 11/F.; CHINA INSURANCE GROUP BUILDING; 141 DES VOEUX ROAD CENTRAL; HONG KONG', 'valid_until': 'The Panama Papers  data is current through 2015', 'name': '', 'country_codes': 'HKG', 'countries': 'Hong Kong', 'node_id': '14100420'}>,\n",
       " <Node id=1202 labels=frozenset({'Entity'}) properties={'sourceID': 'Panama Papers', 'company_type': '', 'note': '', 'closed_date': '', 'jurisdiction': 'SAM', 'struck_off_date': '', 'service_provider': 'Mossack Fonseca', 'countries': 'Hong Kong', 'jurisdiction_description': 'Samoa', 'valid_until': 'The Panama Papers data is current through 2015', 'ibcRUC': 'R27102', 'name': 'PACIFIC EDUCATION MANAGEMENT LIMITED', 'country_codes': 'HKG', 'inactivation_date': '', 'incorporation_date': '26-JUL-2006', 'node_id': '10002111', 'status': 'Active'}>,\n",
       " <Node id=320696 labels=frozenset({'Address'}) properties={'sourceID': 'Panama Papers', 'note': '', 'address': 'LUOYANG RUICHANG PETROLEUM CHEMICAL EQUIPMENT CO.; LTD. NO.3 XIWANG RD INDUSTRIAL DEVELOPMENT ZONES LUOYANG CITY; HENAN  PROVINCE; CHINA', 'valid_until': 'The Panama Papers  data is current through 2015', 'name': '', 'country_codes': 'CHN', 'countries': 'China', 'node_id': '14100483'}>,\n",
       " <Node id=1238 labels=frozenset({'Entity'}) properties={'sourceID': 'Panama Papers', 'company_type': '', 'note': '', 'closed_date': '', 'jurisdiction': 'SAM', 'struck_off_date': '', 'service_provider': 'Mossack Fonseca', 'countries': 'China', 'jurisdiction_description': 'Samoa', 'valid_until': 'The Panama Papers data is current through 2015', 'ibcRUC': '22375', 'name': 'FLAME PETRO-CHEMICAL ENGINEERING INTERNATIONAL LIMITED', 'country_codes': 'CHN', 'inactivation_date': '', 'incorporation_date': '22-AUG-2005', 'node_id': '10002145', 'status': 'Active'}>,\n",
       " <Node id=320982 labels=frozenset({'Address'}) properties={'sourceID': 'Panama Papers', 'note': '', 'address': 'MYERS TRADING LIMITED INVISION HOUSE WILBURY WAY HITCHIN HERTFORDSHIRE SG4 0XE UNITED KINGDOM', 'valid_until': 'The Panama Papers  data is current through 2015', 'name': '', 'country_codes': 'GBR', 'countries': 'United Kingdom', 'node_id': '14103186'}>,\n",
       " <Node id=1373 labels=frozenset({'Entity'}) properties={'sourceID': 'Panama Papers', 'company_type': '', 'note': '', 'closed_date': '', 'jurisdiction': 'UK', 'struck_off_date': '04-OCT-2006', 'service_provider': 'Mossack Fonseca', 'countries': 'United Kingdom', 'jurisdiction_description': 'United Kingdom', 'valid_until': 'The Panama Papers data is current through 2015', 'ibcRUC': '05582963', 'name': 'MYERS TRADING LIMITED', 'country_codes': 'GBR', 'inactivation_date': '19-SEP-2011', 'incorporation_date': '04-OCT-2005', 'node_id': '10002287', 'status': 'Bad debt account'}>,\n",
       " <Node id=317654 labels=frozenset({'Address'}) properties={'sourceID': 'Panama Papers', 'note': '', 'address': 'AVENIDA SAMUEL LEWIS  CALLE 56 ESTE; PDC TOWER (PANAMA DESIGN CENTER) PISO 14; OFICINA 14-C', 'valid_until': 'The Panama Papers  data is current through 2015', 'name': '', 'country_codes': 'PAN', 'countries': 'Panama', 'node_id': '14092017'}>,\n",
       " <Node id=1401 labels=frozenset({'Entity'}) properties={'sourceID': 'Panama Papers', 'company_type': '', 'note': '', 'closed_date': '', 'jurisdiction': 'SAM', 'struck_off_date': '15-FEB-2015', 'service_provider': 'Mossack Fonseca', 'countries': 'Panama', 'jurisdiction_description': 'Samoa', 'valid_until': 'The Panama Papers data is current through 2015', 'ibcRUC': '40042', 'name': 'OLYMPIA CAPITAL MANAGEMENT INC.', 'country_codes': 'PAN', 'inactivation_date': '27-APR-2014', 'incorporation_date': '05-JAN-2009', 'node_id': '10002338', 'status': 'Resigned as agent'}>,\n",
       " <Node id=319974 labels=frozenset({'Address'}) properties={'sourceID': 'Panama Papers', 'note': '', 'address': 'SIMON BEETAR AV. CARRERA 9 NO. 115-06/30  OF. 801 BOGOTA,COLOMBIA', 'valid_until': 'The Panama Papers  data is current through 2015', 'name': '', 'country_codes': 'COL', 'countries': 'Colombia', 'node_id': '14106269'}>,\n",
       " <Node id=1527 labels=frozenset({'Entity'}) properties={'sourceID': 'Panama Papers', 'company_type': '', 'note': '', 'closed_date': '', 'jurisdiction': 'UK', 'struck_off_date': '', 'service_provider': 'Mossack Fonseca', 'countries': 'Colombia', 'jurisdiction_description': 'United Kingdom', 'valid_until': 'The Panama Papers data is current through 2015', 'ibcRUC': 'OC400586', 'name': 'SEATON INCORPORATED LLP', 'country_codes': 'COL', 'inactivation_date': '', 'incorporation_date': '29-JUN-2015', 'node_id': '10002444', 'status': 'Active'}>,\n",
       " <Node id=317192 labels=frozenset({'Address'}) properties={'sourceID': 'Panama Papers', 'note': '', 'address': 'CALICO LIMITED MOSSACK FONSECA & CO. (SAMOA) LIMITED; LEVEL 2; NIA MALL; VAEA STREET; APIA; SAMOA.', 'valid_until': 'The Panama Papers  data is current through 2015', 'name': '', 'country_codes': 'WSM', 'countries': 'Samoa', 'node_id': '14093104'}>,\n",
       " <Node id=1533 labels=frozenset({'Entity'}) properties={'sourceID': 'Panama Papers', 'company_type': '', 'note': '', 'closed_date': '', 'jurisdiction': 'SAM', 'struck_off_date': '15-FEB-2009', 'service_provider': 'Mossack Fonseca', 'countries': 'Samoa', 'jurisdiction_description': 'Samoa', 'valid_until': 'The Panama Papers data is current through 2015', 'ibcRUC': 'R31450', 'name': 'CALICO LIMITED', 'country_codes': 'WSM', 'inactivation_date': '26-MAR-2012', 'incorporation_date': '28-FEB-2007', 'node_id': '10002450', 'status': 'Defaulted'}>]"
      ]
     },
     "execution_count": 6,
     "metadata": {},
     "output_type": "execute_result"
    }
   ],
   "source": [
    "nodes"
   ]
  },
  {
   "cell_type": "code",
   "execution_count": 29,
   "metadata": {},
   "outputs": [
    {
     "data": {
      "text/plain": [
       "False"
      ]
     },
     "execution_count": 29,
     "metadata": {},
     "output_type": "execute_result"
    }
   ],
   "source": [
    "nx.is_connected(G)"
   ]
  },
  {
   "cell_type": "code",
   "execution_count": 14,
   "metadata": {},
   "outputs": [
    {
     "name": "stdout",
     "output_type": "stream",
     "text": [
      "Number of nodes:  43\n",
      "Number of edges:  25\n"
     ]
    }
   ],
   "source": [
    "print(\"Number of nodes: \", G.number_of_nodes())\n",
    "print(\"Number of edges: \", G.number_of_edges())"
   ]
  },
  {
   "cell_type": "code",
   "execution_count": 15,
   "metadata": {},
   "outputs": [],
   "source": [
    "# Graph connected components\n",
    "S = [G.subgraph(c).copy() for c in nx.connected_components(G)]"
   ]
  },
  {
   "cell_type": "code",
   "execution_count": 30,
   "metadata": {},
   "outputs": [],
   "source": [
    "def get_stats(stats):\n",
    "    array = list(stats.values())\n",
    "    response = {\n",
    "        \"min\": min(array),\n",
    "        \"max\": max(array),\n",
    "        \"mean\": np.mean(array),\n",
    "        \"std\": np.std(array)\n",
    "    }\n",
    "    return response"
   ]
  },
  {
   "cell_type": "code",
   "execution_count": 31,
   "metadata": {},
   "outputs": [
    {
     "name": "stdout",
     "output_type": "stream",
     "text": [
      "{'min': 0.023809523809523808, 'max': 0.09523809523809523, 'mean': 0.027685492801771867, 'std': 0.01351778030535294}\n"
     ]
    }
   ],
   "source": [
    "## Degree centrality\n",
    "stats_degree_centrality = get_stats(nx.degree_centrality(G))\n",
    "print(stats_degree_centrality)"
   ]
  },
  {
   "cell_type": "code",
   "execution_count": 32,
   "metadata": {},
   "outputs": [
    {
     "name": "stdout",
     "output_type": "stream",
     "text": [
      "{'min': 0.14285714285714285, 'max': 1.0, 'mean': 0.7462347729789589, 'std': 0.353534832443594}\n"
     ]
    }
   ],
   "source": [
    "## Information centrality\n",
    "stats_information_centrality_dict = {}\n",
    "for i in S:\n",
    "    stats_information_centrality_dict.update(nx.information_centrality(i))\n",
    "stats_information_centrality = get_stats(stats_information_centrality_dict)\n",
    "print(stats_information_centrality)"
   ]
  },
  {
   "cell_type": "code",
   "execution_count": 33,
   "metadata": {},
   "outputs": [
    {
     "name": "stdout",
     "output_type": "stream",
     "text": [
      "{'min': 0.023809523809523808, 'max': 0.09523809523809523, 'mean': 0.03260032695248641, 'std': 0.015453805178090039}\n"
     ]
    }
   ],
   "source": [
    "## Closeness centrality\n",
    "stats_closeness_centrality = get_stats(nx.closeness_centrality(G))\n",
    "print(stats_closeness_centrality)"
   ]
  },
  {
   "cell_type": "code",
   "execution_count": 34,
   "metadata": {},
   "outputs": [
    {
     "name": "stdout",
     "output_type": "stream",
     "text": [
      "{'min': 0.0, 'max': 0.005993031358885017, 'mean': 0.0003252032520325203, 'std': 0.0012874709835587474}\n"
     ]
    }
   ],
   "source": [
    "## Betwenness centrality\n",
    "stats_betweenness_centrality = get_stats(nx.betweenness_centrality(G, k=25))\n",
    "print(stats_betweenness_centrality)"
   ]
  },
  {
   "cell_type": "code",
   "execution_count": 35,
   "metadata": {},
   "outputs": [
    {
     "name": "stdout",
     "output_type": "stream",
     "text": [
      "{'min': 0.14285714285714285, 'max': 1.0, 'mean': 0.7462347729789589, 'std': 0.353534832443594}\n"
     ]
    }
   ],
   "source": [
    "stats_current_flow_closeness_centrality_dict = {}\n",
    "for i in S:\n",
    "    stats_current_flow_closeness_centrality_dict.update(nx.current_flow_closeness_centrality(i))\n",
    "stats_current_flow_closeness_centrality = get_stats(stats_current_flow_closeness_centrality_dict)\n",
    "print(stats_current_flow_closeness_centrality)"
   ]
  }
 ],
 "metadata": {
  "kernelspec": {
   "display_name": "Python 3",
   "language": "python",
   "name": "python3"
  },
  "language_info": {
   "codemirror_mode": {
    "name": "ipython",
    "version": 3
   },
   "file_extension": ".py",
   "mimetype": "text/x-python",
   "name": "python",
   "nbconvert_exporter": "python",
   "pygments_lexer": "ipython3",
   "version": "3.7.9"
  }
 },
 "nbformat": 4,
 "nbformat_minor": 2
}
